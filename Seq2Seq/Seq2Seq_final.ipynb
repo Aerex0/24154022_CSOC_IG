{
  "cells": [
    {
      "cell_type": "code",
      "execution_count": 1,
      "metadata": {
        "colab": {
          "base_uri": "https://localhost:8080/"
        },
        "id": "N-uofjpS31i3",
        "outputId": "e3f7fa01-ebef-4d37-82f9-a26c79a2845f"
      },
      "outputs": [
        {
          "name": "stdout",
          "output_type": "stream",
          "text": [
            "Requirement already satisfied: sacrebleu in /usr/local/lib/python3.11/dist-packages (2.5.1)\n",
            "Requirement already satisfied: portalocker in /usr/local/lib/python3.11/dist-packages (from sacrebleu) (3.2.0)\n",
            "Requirement already satisfied: regex in /usr/local/lib/python3.11/dist-packages (from sacrebleu) (2024.11.6)\n",
            "Requirement already satisfied: tabulate>=0.8.9 in /usr/local/lib/python3.11/dist-packages (from sacrebleu) (0.9.0)\n",
            "Requirement already satisfied: numpy>=1.17 in /usr/local/lib/python3.11/dist-packages (from sacrebleu) (2.0.2)\n",
            "Requirement already satisfied: colorama in /usr/local/lib/python3.11/dist-packages (from sacrebleu) (0.4.6)\n",
            "Requirement already satisfied: lxml in /usr/local/lib/python3.11/dist-packages (from sacrebleu) (5.4.0)\n"
          ]
        }
      ],
      "source": [
        "!pip install sacrebleu"
      ]
    },
    {
      "cell_type": "code",
      "execution_count": 2,
      "metadata": {
        "colab": {
          "base_uri": "https://localhost:8080/"
        },
        "id": "5yKk78zDk87X",
        "outputId": "acaad02c-fcb1-45c3-9f49-aa667144f818"
      },
      "outputs": [
        {
          "name": "stdout",
          "output_type": "stream",
          "text": [
            "Drive already mounted at /content/drive; to attempt to forcibly remount, call drive.mount(\"/content/drive\", force_remount=True).\n"
          ]
        }
      ],
      "source": [
        "from google.colab import drive\n",
        "drive.mount('/content/drive')"
      ]
    },
    {
      "cell_type": "code",
      "execution_count": 3,
      "metadata": {
        "id": "bQUiKvkilNoi"
      },
      "outputs": [],
      "source": [
        "from tensorflow.keras.preprocessing.text import Tokenizer\n",
        "from sklearn.model_selection import train_test_split\n",
        "import numpy as np\n",
        "import pandas as pd\n",
        "import tensorflow as tf\n",
        "from tensorflow.keras.layers import Input, LSTM, Dense, Embedding\n",
        "from tensorflow.keras.models import Model\n",
        "from tensorflow.keras.utils import to_categorical\n",
        "import matplotlib.pyplot as plt"
      ]
    },
    {
      "cell_type": "code",
      "execution_count": 4,
      "metadata": {
        "id": "kyHIpowwlc7U"
      },
      "outputs": [],
      "source": [
        "path_to_train = '/content/drive/MyDrive/Seq2Seq/balanced_train.csv'\n",
        "path_to_val = '/content/drive/MyDrive/Seq2Seq/val.csv'\n",
        "train_df = pd.read_csv(path_to_train)\n",
        "val_df = pd.read_csv(path_to_val)\n",
        "# print(df.shape)"
      ]
    },
    {
      "cell_type": "code",
      "execution_count": 5,
      "metadata": {
        "id": "Y9yzla_slfOf"
      },
      "outputs": [],
      "source": [
        "def preprocess_sentence(sentence):\n",
        "    sentence = sentence.lower().strip()\n",
        "    sentence = sentence.replace(\"¿\", \"\").replace(\"?\", \"\").replace(\"©\", \"\")\n",
        "    sentence = sentence.replace(\".\", \"\").replace(\",\", \"\").replace(\"!\", \"\").replace(\"¡\", \"\")\n",
        "    return sentence"
      ]
    },
    {
      "cell_type": "code",
      "execution_count": 6,
      "metadata": {
        "id": "mc44fchklhrj"
      },
      "outputs": [],
      "source": [
        "for df in [train_df, val_df]:\n",
        "    df['english'] = df['english'].apply(preprocess_sentence)\n",
        "    df['spanish'] = df['spanish'].apply(preprocess_sentence)\n",
        "    df['spanish'] = df['spanish'].apply(lambda x: '<sos> ' + x + ' <eos>')"
      ]
    },
    {
      "cell_type": "code",
      "execution_count": 7,
      "metadata": {
        "id": "vUrd8mYJBngF"
      },
      "outputs": [],
      "source": [
        "# # Compute sentence lengths\n",
        "# df['english_len'] = df['english'].apply(lambda x: len(x.split()))\n",
        "# df['spanish_len'] = df['spanish'].apply(lambda x: len(x.split()))\n",
        "\n",
        "# # Plot histogram\n",
        "# plt.figure(figsize=(12, 6))\n",
        "# plt.hist(df['english_len'], bins=50, alpha=0.6, label='English Sentence Length')\n",
        "# plt.hist(df['spanish_len'], bins=50, alpha=0.6, label='spanish Sentence Length')\n",
        "# plt.title(\"Sentence Length Distribution\")\n",
        "# plt.xlabel(\"Sentence Length (words)\")\n",
        "# plt.ylabel(\"Frequency\")\n",
        "# plt.legend()\n",
        "# plt.grid(True)\n",
        "# plt.tight_layout()\n",
        "# plt.show()"
      ]
    },
    {
      "cell_type": "code",
      "execution_count": null,
      "metadata": {
        "id": "BjIKo8YSljmx"
      },
      "outputs": [],
      "source": [
        "\n",
        "# Tokenization \n",
        "def data_preprocessor(sentences):\n",
        "    tokenizer = Tokenizer(filters='')\n",
        "    tokenizer.fit_on_texts(sentences)\n",
        "    sequences = tokenizer.texts_to_sequences(sentences)\n",
        "    return sequences, tokenizer\n",
        "\n",
        "train_inputs, source_tokenizer = data_preprocessor(train_df['english'])\n",
        "train_target_sequences, target_tokenizer = data_preprocessor(train_df['spanish'])\n",
        "\n",
        "\n",
        "val_inputs = source_tokenizer.texts_to_sequences(val_df['english'])\n",
        "val_target_sequences = target_tokenizer.texts_to_sequences(val_df['spanish'])"
      ]
    },
    {
      "cell_type": "code",
      "execution_count": null,
      "metadata": {
        "id": "HIerLOBluHcJ"
      },
      "outputs": [],
      "source": [
        "# decoder inputs and targets\n",
        "train_dec_in = [seq[:-1] for seq in train_target_sequences]\n",
        "train_targets = [seq[1:] for seq in train_target_sequences]\n",
        "\n",
        "val_dec_in = [seq[:-1] for seq in val_target_sequences]\n",
        "val_targets = [seq[1:] for seq in val_target_sequences]"
      ]
    },
    {
      "cell_type": "code",
      "execution_count": 10,
      "metadata": {
        "id": "xiogOiXvuSvE"
      },
      "outputs": [],
      "source": [
        "# Vocabulary sizes\n",
        "num_encoder_tokens = len(source_tokenizer.word_index) + 1\n",
        "num_decoder_tokens = len(target_tokenizer.word_index) + 1"
      ]
    },
    {
      "cell_type": "code",
      "execution_count": 11,
      "metadata": {
        "id": "-xXXysyHlmgT"
      },
      "outputs": [],
      "source": [
        "# # Train-test split\n",
        "# train_inputs, val_inputs, train_dec_in, val_dec_in, train_targets, val_targets = train_test_split(\n",
        "#     input_sequences, decoder_input_sequences, decoder_target_sequences, test_size=0.1, random_state=42)"
      ]
    },
    {
      "cell_type": "code",
      "execution_count": 12,
      "metadata": {
        "id": "ZHDHdX7plqQG"
      },
      "outputs": [],
      "source": [
        "def is_not_empty(seq):\n",
        "    return len(seq) > 0 and any(token != 0 for token in seq)\n",
        "\n",
        "# Filter empty sequences and ensure equal lengths\n",
        "def filter_sequences(enc_seqs, dec_in_seqs, dec_tar_seqs):\n",
        "    filtered_enc, filtered_dec_in, filtered_dec_tar = [], [], []\n",
        "\n",
        "    for enc, dec_in, dec_tar in zip(enc_seqs, dec_in_seqs, dec_tar_seqs):\n",
        "        if is_not_empty(enc) and is_not_empty(dec_in) and is_not_empty(dec_tar):\n",
        "            filtered_enc.append(enc)\n",
        "            filtered_dec_in.append(dec_in)\n",
        "            filtered_dec_tar.append(dec_tar)\n",
        "\n",
        "    return filtered_enc, filtered_dec_in, filtered_dec_tar"
      ]
    },
    {
      "cell_type": "code",
      "execution_count": 13,
      "metadata": {
        "colab": {
          "base_uri": "https://localhost:8080/"
        },
        "id": "s-ka7oYeltV7",
        "outputId": "ea3488af-c4fa-42e1-9d9d-305d1da7fa99"
      },
      "outputs": [
        {
          "name": "stdout",
          "output_type": "stream",
          "text": [
            "Training samples: 113148\n",
            "Validation samples: 8105\n"
          ]
        }
      ],
      "source": [
        "train_inputs, train_dec_in, train_targets = filter_sequences(train_inputs, train_dec_in, train_targets)\n",
        "val_inputs, val_dec_in, val_targets = filter_sequences(val_inputs, val_dec_in, val_targets)\n",
        "\n",
        "print(f\"Training samples: {len(train_inputs)}\")\n",
        "print(f\"Validation samples: {len(val_inputs)}\")"
      ]
    },
    {
      "cell_type": "code",
      "execution_count": 14,
      "metadata": {
        "id": "BEm5vQ7RlvKa"
      },
      "outputs": [],
      "source": [
        "# Convert sequences to tf.data.Dataset\n",
        "def map_func(enc_inp, dec_inp, dec_tar):\n",
        "    return ({\n",
        "        'encoder_inputs': enc_inp,\n",
        "        'decoder_inputs': dec_inp\n",
        "    }, dec_tar)\n",
        "\n",
        "train_dataset = tf.data.Dataset.from_tensor_slices((\n",
        "    tf.ragged.constant(train_inputs),\n",
        "    tf.ragged.constant(train_dec_in),\n",
        "    tf.ragged.constant(train_targets)\n",
        ")).map(map_func)\n",
        "\n",
        "val_dataset = tf.data.Dataset.from_tensor_slices((\n",
        "    tf.ragged.constant(val_inputs),\n",
        "    tf.ragged.constant(val_dec_in),\n",
        "    tf.ragged.constant(val_targets)\n",
        ")).map(map_func)\n"
      ]
    },
    {
      "cell_type": "code",
      "execution_count": 15,
      "metadata": {
        "id": "xcLkFUlSlxyb"
      },
      "outputs": [],
      "source": [
        "# Applying dynamic padding\n",
        "BATCH_SIZE = 32\n",
        "BUFFER_SIZE = 10000\n",
        "\n",
        "train_dataset = train_dataset.shuffle(BUFFER_SIZE).padded_batch(\n",
        "    BATCH_SIZE,\n",
        "    padded_shapes=({\n",
        "        'encoder_inputs': [None],\n",
        "        'decoder_inputs': [None]\n",
        "    }, [None]),\n",
        "    padding_values=({\n",
        "        'encoder_inputs': 0,\n",
        "        'decoder_inputs': 0\n",
        "    }, 0)\n",
        ")\n",
        "\n",
        "val_dataset = val_dataset.padded_batch(\n",
        "    BATCH_SIZE,\n",
        "    padded_shapes=({\n",
        "        'encoder_inputs': [None],\n",
        "        'decoder_inputs': [None]\n",
        "    }, [None]),\n",
        "    padding_values=({\n",
        "        'encoder_inputs': 0,\n",
        "        'decoder_inputs': 0\n",
        "    }, 0)\n",
        ")"
      ]
    },
    {
      "cell_type": "code",
      "execution_count": 16,
      "metadata": {
        "id": "F1qjqzshl1my"
      },
      "outputs": [],
      "source": [
        "embedding_dim = 128\n",
        "latent_dim = 256\n",
        "\n",
        "from tensorflow.keras.layers import Dot, Activation, Concatenate\n",
        "\n",
        "# Inputs\n",
        "encoder_inputs = Input(shape=(None,), name='encoder_inputs')\n",
        "decoder_inputs = Input(shape=(None,), name='decoder_inputs')\n",
        "\n",
        "# Embeddings\n",
        "encoder_embedding = Embedding(num_encoder_tokens, embedding_dim, mask_zero=True)(encoder_inputs)\n",
        "decoder_embedding = Embedding(num_decoder_tokens, embedding_dim, mask_zero=True)(decoder_inputs)\n",
        "\n",
        "# Encoder\n",
        "encoder_lstm = LSTM(latent_dim, return_sequences=True, return_state=True)\n",
        "encoder_outputs, state_h, state_c = encoder_lstm(encoder_embedding)\n",
        "\n",
        "# Decoder\n",
        "decoder_lstm = LSTM(latent_dim, return_sequences=True, return_state=True)\n",
        "decoder_outputs, _, _ = decoder_lstm(decoder_embedding, initial_state=[state_h, state_c])"
      ]
    },
    {
      "cell_type": "code",
      "execution_count": 17,
      "metadata": {
        "colab": {
          "base_uri": "https://localhost:8080/",
          "height": 622
        },
        "id": "NRW7vQZMl7xo",
        "outputId": "6acf94ac-0e1a-4141-87bc-b40e4e43f317"
      },
      "outputs": [
        {
          "name": "stdout",
          "output_type": "stream",
          "text": [
            "Model summary:\n"
          ]
        },
        {
          "data": {
            "text/html": [
              "<pre style=\"white-space:pre;overflow-x:auto;line-height:normal;font-family:Menlo,'DejaVu Sans Mono',consolas,'Courier New',monospace\"><span style=\"font-weight: bold\">Model: \"functional\"</span>\n",
              "</pre>\n"
            ],
            "text/plain": [
              "\u001b[1mModel: \"functional\"\u001b[0m\n"
            ]
          },
          "metadata": {},
          "output_type": "display_data"
        },
        {
          "data": {
            "text/html": [
              "<pre style=\"white-space:pre;overflow-x:auto;line-height:normal;font-family:Menlo,'DejaVu Sans Mono',consolas,'Courier New',monospace\">┏━━━━━━━━━━━━━━━━━━━━━┳━━━━━━━━━━━━━━━━━━━┳━━━━━━━━━━━━┳━━━━━━━━━━━━━━━━━━━┓\n",
              "┃<span style=\"font-weight: bold\"> Layer (type)        </span>┃<span style=\"font-weight: bold\"> Output Shape      </span>┃<span style=\"font-weight: bold\">    Param # </span>┃<span style=\"font-weight: bold\"> Connected to      </span>┃\n",
              "┡━━━━━━━━━━━━━━━━━━━━━╇━━━━━━━━━━━━━━━━━━━╇━━━━━━━━━━━━╇━━━━━━━━━━━━━━━━━━━┩\n",
              "│ encoder_inputs      │ (<span style=\"color: #00d7ff; text-decoration-color: #00d7ff\">None</span>, <span style=\"color: #00d7ff; text-decoration-color: #00d7ff\">None</span>)      │          <span style=\"color: #00af00; text-decoration-color: #00af00\">0</span> │ -                 │\n",
              "│ (<span style=\"color: #0087ff; text-decoration-color: #0087ff\">InputLayer</span>)        │                   │            │                   │\n",
              "├─────────────────────┼───────────────────┼────────────┼───────────────────┤\n",
              "│ decoder_inputs      │ (<span style=\"color: #00d7ff; text-decoration-color: #00d7ff\">None</span>, <span style=\"color: #00d7ff; text-decoration-color: #00d7ff\">None</span>)      │          <span style=\"color: #00af00; text-decoration-color: #00af00\">0</span> │ -                 │\n",
              "│ (<span style=\"color: #0087ff; text-decoration-color: #0087ff\">InputLayer</span>)        │                   │            │                   │\n",
              "├─────────────────────┼───────────────────┼────────────┼───────────────────┤\n",
              "│ embedding           │ (<span style=\"color: #00d7ff; text-decoration-color: #00d7ff\">None</span>, <span style=\"color: #00d7ff; text-decoration-color: #00d7ff\">None</span>, <span style=\"color: #00af00; text-decoration-color: #00af00\">128</span>) │  <span style=\"color: #00af00; text-decoration-color: #00af00\">1,339,392</span> │ encoder_inputs[<span style=\"color: #00af00; text-decoration-color: #00af00\">0</span>… │\n",
              "│ (<span style=\"color: #0087ff; text-decoration-color: #0087ff\">Embedding</span>)         │                   │            │                   │\n",
              "├─────────────────────┼───────────────────┼────────────┼───────────────────┤\n",
              "│ not_equal           │ (<span style=\"color: #00d7ff; text-decoration-color: #00d7ff\">None</span>, <span style=\"color: #00d7ff; text-decoration-color: #00d7ff\">None</span>)      │          <span style=\"color: #00af00; text-decoration-color: #00af00\">0</span> │ encoder_inputs[<span style=\"color: #00af00; text-decoration-color: #00af00\">0</span>… │\n",
              "│ (<span style=\"color: #0087ff; text-decoration-color: #0087ff\">NotEqual</span>)          │                   │            │                   │\n",
              "├─────────────────────┼───────────────────┼────────────┼───────────────────┤\n",
              "│ embedding_1         │ (<span style=\"color: #00d7ff; text-decoration-color: #00d7ff\">None</span>, <span style=\"color: #00d7ff; text-decoration-color: #00d7ff\">None</span>, <span style=\"color: #00af00; text-decoration-color: #00af00\">128</span>) │  <span style=\"color: #00af00; text-decoration-color: #00af00\">2,340,352</span> │ decoder_inputs[<span style=\"color: #00af00; text-decoration-color: #00af00\">0</span>… │\n",
              "│ (<span style=\"color: #0087ff; text-decoration-color: #0087ff\">Embedding</span>)         │                   │            │                   │\n",
              "├─────────────────────┼───────────────────┼────────────┼───────────────────┤\n",
              "│ lstm (<span style=\"color: #0087ff; text-decoration-color: #0087ff\">LSTM</span>)         │ [(<span style=\"color: #00d7ff; text-decoration-color: #00d7ff\">None</span>, <span style=\"color: #00d7ff; text-decoration-color: #00d7ff\">None</span>,     │    <span style=\"color: #00af00; text-decoration-color: #00af00\">394,240</span> │ embedding[<span style=\"color: #00af00; text-decoration-color: #00af00\">0</span>][<span style=\"color: #00af00; text-decoration-color: #00af00\">0</span>],  │\n",
              "│                     │ <span style=\"color: #00af00; text-decoration-color: #00af00\">256</span>), (<span style=\"color: #00d7ff; text-decoration-color: #00d7ff\">None</span>,      │            │ not_equal[<span style=\"color: #00af00; text-decoration-color: #00af00\">0</span>][<span style=\"color: #00af00; text-decoration-color: #00af00\">0</span>]   │\n",
              "│                     │ <span style=\"color: #00af00; text-decoration-color: #00af00\">256</span>), (<span style=\"color: #00d7ff; text-decoration-color: #00d7ff\">None</span>,      │            │                   │\n",
              "│                     │ <span style=\"color: #00af00; text-decoration-color: #00af00\">256</span>)]             │            │                   │\n",
              "├─────────────────────┼───────────────────┼────────────┼───────────────────┤\n",
              "│ lstm_1 (<span style=\"color: #0087ff; text-decoration-color: #0087ff\">LSTM</span>)       │ [(<span style=\"color: #00d7ff; text-decoration-color: #00d7ff\">None</span>, <span style=\"color: #00d7ff; text-decoration-color: #00d7ff\">None</span>,     │    <span style=\"color: #00af00; text-decoration-color: #00af00\">394,240</span> │ embedding_1[<span style=\"color: #00af00; text-decoration-color: #00af00\">0</span>][<span style=\"color: #00af00; text-decoration-color: #00af00\">0</span>… │\n",
              "│                     │ <span style=\"color: #00af00; text-decoration-color: #00af00\">256</span>), (<span style=\"color: #00d7ff; text-decoration-color: #00d7ff\">None</span>,      │            │ lstm[<span style=\"color: #00af00; text-decoration-color: #00af00\">0</span>][<span style=\"color: #00af00; text-decoration-color: #00af00\">1</span>],       │\n",
              "│                     │ <span style=\"color: #00af00; text-decoration-color: #00af00\">256</span>), (<span style=\"color: #00d7ff; text-decoration-color: #00d7ff\">None</span>,      │            │ lstm[<span style=\"color: #00af00; text-decoration-color: #00af00\">0</span>][<span style=\"color: #00af00; text-decoration-color: #00af00\">2</span>]        │\n",
              "│                     │ <span style=\"color: #00af00; text-decoration-color: #00af00\">256</span>)]             │            │                   │\n",
              "├─────────────────────┼───────────────────┼────────────┼───────────────────┤\n",
              "│ dense (<span style=\"color: #0087ff; text-decoration-color: #0087ff\">Dense</span>)       │ (<span style=\"color: #00d7ff; text-decoration-color: #00d7ff\">None</span>, <span style=\"color: #00d7ff; text-decoration-color: #00d7ff\">None</span>,      │  <span style=\"color: #00af00; text-decoration-color: #00af00\">4,698,988</span> │ lstm_1[<span style=\"color: #00af00; text-decoration-color: #00af00\">0</span>][<span style=\"color: #00af00; text-decoration-color: #00af00\">0</span>]      │\n",
              "│                     │ <span style=\"color: #00af00; text-decoration-color: #00af00\">18284</span>)            │            │                   │\n",
              "└─────────────────────┴───────────────────┴────────────┴───────────────────┘\n",
              "</pre>\n"
            ],
            "text/plain": [
              "┏━━━━━━━━━━━━━━━━━━━━━┳━━━━━━━━━━━━━━━━━━━┳━━━━━━━━━━━━┳━━━━━━━━━━━━━━━━━━━┓\n",
              "┃\u001b[1m \u001b[0m\u001b[1mLayer (type)       \u001b[0m\u001b[1m \u001b[0m┃\u001b[1m \u001b[0m\u001b[1mOutput Shape     \u001b[0m\u001b[1m \u001b[0m┃\u001b[1m \u001b[0m\u001b[1m   Param #\u001b[0m\u001b[1m \u001b[0m┃\u001b[1m \u001b[0m\u001b[1mConnected to     \u001b[0m\u001b[1m \u001b[0m┃\n",
              "┡━━━━━━━━━━━━━━━━━━━━━╇━━━━━━━━━━━━━━━━━━━╇━━━━━━━━━━━━╇━━━━━━━━━━━━━━━━━━━┩\n",
              "│ encoder_inputs      │ (\u001b[38;5;45mNone\u001b[0m, \u001b[38;5;45mNone\u001b[0m)      │          \u001b[38;5;34m0\u001b[0m │ -                 │\n",
              "│ (\u001b[38;5;33mInputLayer\u001b[0m)        │                   │            │                   │\n",
              "├─────────────────────┼───────────────────┼────────────┼───────────────────┤\n",
              "│ decoder_inputs      │ (\u001b[38;5;45mNone\u001b[0m, \u001b[38;5;45mNone\u001b[0m)      │          \u001b[38;5;34m0\u001b[0m │ -                 │\n",
              "│ (\u001b[38;5;33mInputLayer\u001b[0m)        │                   │            │                   │\n",
              "├─────────────────────┼───────────────────┼────────────┼───────────────────┤\n",
              "│ embedding           │ (\u001b[38;5;45mNone\u001b[0m, \u001b[38;5;45mNone\u001b[0m, \u001b[38;5;34m128\u001b[0m) │  \u001b[38;5;34m1,339,392\u001b[0m │ encoder_inputs[\u001b[38;5;34m0\u001b[0m… │\n",
              "│ (\u001b[38;5;33mEmbedding\u001b[0m)         │                   │            │                   │\n",
              "├─────────────────────┼───────────────────┼────────────┼───────────────────┤\n",
              "│ not_equal           │ (\u001b[38;5;45mNone\u001b[0m, \u001b[38;5;45mNone\u001b[0m)      │          \u001b[38;5;34m0\u001b[0m │ encoder_inputs[\u001b[38;5;34m0\u001b[0m… │\n",
              "│ (\u001b[38;5;33mNotEqual\u001b[0m)          │                   │            │                   │\n",
              "├─────────────────────┼───────────────────┼────────────┼───────────────────┤\n",
              "│ embedding_1         │ (\u001b[38;5;45mNone\u001b[0m, \u001b[38;5;45mNone\u001b[0m, \u001b[38;5;34m128\u001b[0m) │  \u001b[38;5;34m2,340,352\u001b[0m │ decoder_inputs[\u001b[38;5;34m0\u001b[0m… │\n",
              "│ (\u001b[38;5;33mEmbedding\u001b[0m)         │                   │            │                   │\n",
              "├─────────────────────┼───────────────────┼────────────┼───────────────────┤\n",
              "│ lstm (\u001b[38;5;33mLSTM\u001b[0m)         │ [(\u001b[38;5;45mNone\u001b[0m, \u001b[38;5;45mNone\u001b[0m,     │    \u001b[38;5;34m394,240\u001b[0m │ embedding[\u001b[38;5;34m0\u001b[0m][\u001b[38;5;34m0\u001b[0m],  │\n",
              "│                     │ \u001b[38;5;34m256\u001b[0m), (\u001b[38;5;45mNone\u001b[0m,      │            │ not_equal[\u001b[38;5;34m0\u001b[0m][\u001b[38;5;34m0\u001b[0m]   │\n",
              "│                     │ \u001b[38;5;34m256\u001b[0m), (\u001b[38;5;45mNone\u001b[0m,      │            │                   │\n",
              "│                     │ \u001b[38;5;34m256\u001b[0m)]             │            │                   │\n",
              "├─────────────────────┼───────────────────┼────────────┼───────────────────┤\n",
              "│ lstm_1 (\u001b[38;5;33mLSTM\u001b[0m)       │ [(\u001b[38;5;45mNone\u001b[0m, \u001b[38;5;45mNone\u001b[0m,     │    \u001b[38;5;34m394,240\u001b[0m │ embedding_1[\u001b[38;5;34m0\u001b[0m][\u001b[38;5;34m0\u001b[0m… │\n",
              "│                     │ \u001b[38;5;34m256\u001b[0m), (\u001b[38;5;45mNone\u001b[0m,      │            │ lstm[\u001b[38;5;34m0\u001b[0m][\u001b[38;5;34m1\u001b[0m],       │\n",
              "│                     │ \u001b[38;5;34m256\u001b[0m), (\u001b[38;5;45mNone\u001b[0m,      │            │ lstm[\u001b[38;5;34m0\u001b[0m][\u001b[38;5;34m2\u001b[0m]        │\n",
              "│                     │ \u001b[38;5;34m256\u001b[0m)]             │            │                   │\n",
              "├─────────────────────┼───────────────────┼────────────┼───────────────────┤\n",
              "│ dense (\u001b[38;5;33mDense\u001b[0m)       │ (\u001b[38;5;45mNone\u001b[0m, \u001b[38;5;45mNone\u001b[0m,      │  \u001b[38;5;34m4,698,988\u001b[0m │ lstm_1[\u001b[38;5;34m0\u001b[0m][\u001b[38;5;34m0\u001b[0m]      │\n",
              "│                     │ \u001b[38;5;34m18284\u001b[0m)            │            │                   │\n",
              "└─────────────────────┴───────────────────┴────────────┴───────────────────┘\n"
            ]
          },
          "metadata": {},
          "output_type": "display_data"
        },
        {
          "data": {
            "text/html": [
              "<pre style=\"white-space:pre;overflow-x:auto;line-height:normal;font-family:Menlo,'DejaVu Sans Mono',consolas,'Courier New',monospace\"><span style=\"font-weight: bold\"> Total params: </span><span style=\"color: #00af00; text-decoration-color: #00af00\">9,167,212</span> (34.97 MB)\n",
              "</pre>\n"
            ],
            "text/plain": [
              "\u001b[1m Total params: \u001b[0m\u001b[38;5;34m9,167,212\u001b[0m (34.97 MB)\n"
            ]
          },
          "metadata": {},
          "output_type": "display_data"
        },
        {
          "data": {
            "text/html": [
              "<pre style=\"white-space:pre;overflow-x:auto;line-height:normal;font-family:Menlo,'DejaVu Sans Mono',consolas,'Courier New',monospace\"><span style=\"font-weight: bold\"> Trainable params: </span><span style=\"color: #00af00; text-decoration-color: #00af00\">9,167,212</span> (34.97 MB)\n",
              "</pre>\n"
            ],
            "text/plain": [
              "\u001b[1m Trainable params: \u001b[0m\u001b[38;5;34m9,167,212\u001b[0m (34.97 MB)\n"
            ]
          },
          "metadata": {},
          "output_type": "display_data"
        },
        {
          "data": {
            "text/html": [
              "<pre style=\"white-space:pre;overflow-x:auto;line-height:normal;font-family:Menlo,'DejaVu Sans Mono',consolas,'Courier New',monospace\"><span style=\"font-weight: bold\"> Non-trainable params: </span><span style=\"color: #00af00; text-decoration-color: #00af00\">0</span> (0.00 B)\n",
              "</pre>\n"
            ],
            "text/plain": [
              "\u001b[1m Non-trainable params: \u001b[0m\u001b[38;5;34m0\u001b[0m (0.00 B)\n"
            ]
          },
          "metadata": {},
          "output_type": "display_data"
        }
      ],
      "source": [
        "decoder_dense = Dense(num_decoder_tokens, activation='softmax')\n",
        "decoder_outputs_final = decoder_dense(decoder_outputs)\n",
        "\n",
        "\n",
        "# Build and compile\n",
        "model = Model([encoder_inputs, decoder_inputs], decoder_outputs_final)\n",
        "model.compile(optimizer='adam', loss='sparse_categorical_crossentropy', metrics=['accuracy'])\n",
        "\n",
        "print(\"Model summary:\")\n",
        "model.summary()"
      ]
    },
    {
      "cell_type": "code",
      "execution_count": 18,
      "metadata": {
        "colab": {
          "base_uri": "https://localhost:8080/"
        },
        "id": "-uPg45L8l96d",
        "outputId": "b530b3f0-c36c-43ac-ae0f-82de7561dc85"
      },
      "outputs": [
        {
          "name": "stdout",
          "output_type": "stream",
          "text": [
            "Sample batch shapes:\n",
            "Encoder input shape: (32, 10)\n",
            "Decoder input shape: (32, 12)\n",
            "Target shape: (32, 12)\n",
            "Sample encoder input: [   3  274    1 2745   41    5 7503   16   19 3428]\n",
            "Sample decoder input: [   1 1917 3374   41 3119   24   21 4038    0    0    0    0]\n",
            "Sample target: [1917 3374   41 3119   24   21 4038    2    0    0    0    0]\n"
          ]
        }
      ],
      "source": [
        "# sample batch\n",
        "for batch in train_dataset.take(1):\n",
        "    print(\"Sample batch shapes:\")\n",
        "    print(\"Encoder input shape:\", batch[0]['encoder_inputs'].shape)\n",
        "    print(\"Decoder input shape:\", batch[0]['decoder_inputs'].shape)\n",
        "    print(\"Target shape:\", batch[1].shape)\n",
        "    print(\"Sample encoder input:\", batch[0]['encoder_inputs'].numpy()[0])\n",
        "    print(\"Sample decoder input:\", batch[0]['decoder_inputs'].numpy()[0])\n",
        "    print(\"Sample target:\", batch[1].numpy()[0])"
      ]
    },
    {
      "cell_type": "code",
      "execution_count": 19,
      "metadata": {
        "id": "EShB_EC63j-s"
      },
      "outputs": [],
      "source": [
        "from tensorflow.keras.callbacks import EarlyStopping\n",
        "\n",
        "early_stop = EarlyStopping(monitor='val_loss', patience=2, restore_best_weights=True)\n"
      ]
    },
    {
      "cell_type": "code",
      "execution_count": 20,
      "metadata": {
        "colab": {
          "base_uri": "https://localhost:8080/"
        },
        "id": "GKik186Rl_0_",
        "outputId": "a05b33eb-27ee-4f17-c0d7-2493b9f786da"
      },
      "outputs": [
        {
          "name": "stdout",
          "output_type": "stream",
          "text": [
            "Epoch 1/10\n",
            "\u001b[1m3536/3536\u001b[0m \u001b[32m━━━━━━━━━━━━━━━━━━━━\u001b[0m\u001b[37m\u001b[0m \u001b[1m145s\u001b[0m 40ms/step - accuracy: 0.1321 - loss: 5.4488 - val_accuracy: 0.2322 - val_loss: 3.6516\n",
            "Epoch 2/10\n",
            "\u001b[1m3536/3536\u001b[0m \u001b[32m━━━━━━━━━━━━━━━━━━━━\u001b[0m\u001b[37m\u001b[0m \u001b[1m200s\u001b[0m 40ms/step - accuracy: 0.2752 - loss: 3.0833 - val_accuracy: 0.2907 - val_loss: 2.9846\n",
            "Epoch 3/10\n",
            "\u001b[1m3536/3536\u001b[0m \u001b[32m━━━━━━━━━━━━━━━━━━━━\u001b[0m\u001b[37m\u001b[0m \u001b[1m142s\u001b[0m 40ms/step - accuracy: 0.3783 - loss: 1.9613 - val_accuracy: 0.3165 - val_loss: 2.7667\n",
            "Epoch 4/10\n",
            "\u001b[1m3536/3536\u001b[0m \u001b[32m━━━━━━━━━━━━━━━━━━━━\u001b[0m\u001b[37m\u001b[0m \u001b[1m142s\u001b[0m 40ms/step - accuracy: 0.4577 - loss: 1.2896 - val_accuracy: 0.3303 - val_loss: 2.7121\n",
            "Epoch 5/10\n",
            "\u001b[1m3536/3536\u001b[0m \u001b[32m━━━━━━━━━━━━━━━━━━━━\u001b[0m\u001b[37m\u001b[0m \u001b[1m141s\u001b[0m 40ms/step - accuracy: 0.5088 - loss: 0.8892 - val_accuracy: 0.3345 - val_loss: 2.7450\n",
            "Epoch 6/10\n",
            "\u001b[1m3536/3536\u001b[0m \u001b[32m━━━━━━━━━━━━━━━━━━━━\u001b[0m\u001b[37m\u001b[0m \u001b[1m141s\u001b[0m 40ms/step - accuracy: 0.5446 - loss: 0.6327 - val_accuracy: 0.3389 - val_loss: 2.8132\n"
          ]
        }
      ],
      "source": [
        "# Train the model\n",
        "history = model.fit(train_dataset, validation_data=val_dataset, epochs=10, callbacks=[early_stop])"
      ]
    },
    {
      "cell_type": "code",
      "execution_count": 21,
      "metadata": {
        "colab": {
          "base_uri": "https://localhost:8080/",
          "height": 621
        },
        "id": "x5XTf4O5XcFI",
        "outputId": "f181b0dd-3f98-4230-beed-c510c1f6b846"
      },
      "outputs": [
        {
          "data": {
            "text/html": [
              "<pre style=\"white-space:pre;overflow-x:auto;line-height:normal;font-family:Menlo,'DejaVu Sans Mono',consolas,'Courier New',monospace\"><span style=\"font-weight: bold\">Model: \"functional\"</span>\n",
              "</pre>\n"
            ],
            "text/plain": [
              "\u001b[1mModel: \"functional\"\u001b[0m\n"
            ]
          },
          "metadata": {},
          "output_type": "display_data"
        },
        {
          "data": {
            "text/html": [
              "<pre style=\"white-space:pre;overflow-x:auto;line-height:normal;font-family:Menlo,'DejaVu Sans Mono',consolas,'Courier New',monospace\">┏━━━━━━━━━━━━━━━━━━━━━┳━━━━━━━━━━━━━━━━━━━┳━━━━━━━━━━━━┳━━━━━━━━━━━━━━━━━━━┓\n",
              "┃<span style=\"font-weight: bold\"> Layer (type)        </span>┃<span style=\"font-weight: bold\"> Output Shape      </span>┃<span style=\"font-weight: bold\">    Param # </span>┃<span style=\"font-weight: bold\"> Connected to      </span>┃\n",
              "┡━━━━━━━━━━━━━━━━━━━━━╇━━━━━━━━━━━━━━━━━━━╇━━━━━━━━━━━━╇━━━━━━━━━━━━━━━━━━━┩\n",
              "│ encoder_inputs      │ (<span style=\"color: #00d7ff; text-decoration-color: #00d7ff\">None</span>, <span style=\"color: #00d7ff; text-decoration-color: #00d7ff\">None</span>)      │          <span style=\"color: #00af00; text-decoration-color: #00af00\">0</span> │ -                 │\n",
              "│ (<span style=\"color: #0087ff; text-decoration-color: #0087ff\">InputLayer</span>)        │                   │            │                   │\n",
              "├─────────────────────┼───────────────────┼────────────┼───────────────────┤\n",
              "│ decoder_inputs      │ (<span style=\"color: #00d7ff; text-decoration-color: #00d7ff\">None</span>, <span style=\"color: #00d7ff; text-decoration-color: #00d7ff\">None</span>)      │          <span style=\"color: #00af00; text-decoration-color: #00af00\">0</span> │ -                 │\n",
              "│ (<span style=\"color: #0087ff; text-decoration-color: #0087ff\">InputLayer</span>)        │                   │            │                   │\n",
              "├─────────────────────┼───────────────────┼────────────┼───────────────────┤\n",
              "│ embedding           │ (<span style=\"color: #00d7ff; text-decoration-color: #00d7ff\">None</span>, <span style=\"color: #00d7ff; text-decoration-color: #00d7ff\">None</span>, <span style=\"color: #00af00; text-decoration-color: #00af00\">128</span>) │  <span style=\"color: #00af00; text-decoration-color: #00af00\">1,339,392</span> │ encoder_inputs[<span style=\"color: #00af00; text-decoration-color: #00af00\">0</span>… │\n",
              "│ (<span style=\"color: #0087ff; text-decoration-color: #0087ff\">Embedding</span>)         │                   │            │                   │\n",
              "├─────────────────────┼───────────────────┼────────────┼───────────────────┤\n",
              "│ not_equal           │ (<span style=\"color: #00d7ff; text-decoration-color: #00d7ff\">None</span>, <span style=\"color: #00d7ff; text-decoration-color: #00d7ff\">None</span>)      │          <span style=\"color: #00af00; text-decoration-color: #00af00\">0</span> │ encoder_inputs[<span style=\"color: #00af00; text-decoration-color: #00af00\">0</span>… │\n",
              "│ (<span style=\"color: #0087ff; text-decoration-color: #0087ff\">NotEqual</span>)          │                   │            │                   │\n",
              "├─────────────────────┼───────────────────┼────────────┼───────────────────┤\n",
              "│ embedding_1         │ (<span style=\"color: #00d7ff; text-decoration-color: #00d7ff\">None</span>, <span style=\"color: #00d7ff; text-decoration-color: #00d7ff\">None</span>, <span style=\"color: #00af00; text-decoration-color: #00af00\">128</span>) │  <span style=\"color: #00af00; text-decoration-color: #00af00\">2,340,352</span> │ decoder_inputs[<span style=\"color: #00af00; text-decoration-color: #00af00\">0</span>… │\n",
              "│ (<span style=\"color: #0087ff; text-decoration-color: #0087ff\">Embedding</span>)         │                   │            │                   │\n",
              "├─────────────────────┼───────────────────┼────────────┼───────────────────┤\n",
              "│ lstm (<span style=\"color: #0087ff; text-decoration-color: #0087ff\">LSTM</span>)         │ [(<span style=\"color: #00d7ff; text-decoration-color: #00d7ff\">None</span>, <span style=\"color: #00d7ff; text-decoration-color: #00d7ff\">None</span>,     │    <span style=\"color: #00af00; text-decoration-color: #00af00\">394,240</span> │ embedding[<span style=\"color: #00af00; text-decoration-color: #00af00\">0</span>][<span style=\"color: #00af00; text-decoration-color: #00af00\">0</span>],  │\n",
              "│                     │ <span style=\"color: #00af00; text-decoration-color: #00af00\">256</span>), (<span style=\"color: #00d7ff; text-decoration-color: #00d7ff\">None</span>,      │            │ not_equal[<span style=\"color: #00af00; text-decoration-color: #00af00\">0</span>][<span style=\"color: #00af00; text-decoration-color: #00af00\">0</span>]   │\n",
              "│                     │ <span style=\"color: #00af00; text-decoration-color: #00af00\">256</span>), (<span style=\"color: #00d7ff; text-decoration-color: #00d7ff\">None</span>,      │            │                   │\n",
              "│                     │ <span style=\"color: #00af00; text-decoration-color: #00af00\">256</span>)]             │            │                   │\n",
              "├─────────────────────┼───────────────────┼────────────┼───────────────────┤\n",
              "│ lstm_1 (<span style=\"color: #0087ff; text-decoration-color: #0087ff\">LSTM</span>)       │ [(<span style=\"color: #00d7ff; text-decoration-color: #00d7ff\">None</span>, <span style=\"color: #00d7ff; text-decoration-color: #00d7ff\">None</span>,     │    <span style=\"color: #00af00; text-decoration-color: #00af00\">394,240</span> │ embedding_1[<span style=\"color: #00af00; text-decoration-color: #00af00\">0</span>][<span style=\"color: #00af00; text-decoration-color: #00af00\">0</span>… │\n",
              "│                     │ <span style=\"color: #00af00; text-decoration-color: #00af00\">256</span>), (<span style=\"color: #00d7ff; text-decoration-color: #00d7ff\">None</span>,      │            │ lstm[<span style=\"color: #00af00; text-decoration-color: #00af00\">0</span>][<span style=\"color: #00af00; text-decoration-color: #00af00\">1</span>],       │\n",
              "│                     │ <span style=\"color: #00af00; text-decoration-color: #00af00\">256</span>), (<span style=\"color: #00d7ff; text-decoration-color: #00d7ff\">None</span>,      │            │ lstm[<span style=\"color: #00af00; text-decoration-color: #00af00\">0</span>][<span style=\"color: #00af00; text-decoration-color: #00af00\">2</span>]        │\n",
              "│                     │ <span style=\"color: #00af00; text-decoration-color: #00af00\">256</span>)]             │            │                   │\n",
              "├─────────────────────┼───────────────────┼────────────┼───────────────────┤\n",
              "│ dense (<span style=\"color: #0087ff; text-decoration-color: #0087ff\">Dense</span>)       │ (<span style=\"color: #00d7ff; text-decoration-color: #00d7ff\">None</span>, <span style=\"color: #00d7ff; text-decoration-color: #00d7ff\">None</span>,      │  <span style=\"color: #00af00; text-decoration-color: #00af00\">4,698,988</span> │ lstm_1[<span style=\"color: #00af00; text-decoration-color: #00af00\">0</span>][<span style=\"color: #00af00; text-decoration-color: #00af00\">0</span>]      │\n",
              "│                     │ <span style=\"color: #00af00; text-decoration-color: #00af00\">18284</span>)            │            │                   │\n",
              "└─────────────────────┴───────────────────┴────────────┴───────────────────┘\n",
              "</pre>\n"
            ],
            "text/plain": [
              "┏━━━━━━━━━━━━━━━━━━━━━┳━━━━━━━━━━━━━━━━━━━┳━━━━━━━━━━━━┳━━━━━━━━━━━━━━━━━━━┓\n",
              "┃\u001b[1m \u001b[0m\u001b[1mLayer (type)       \u001b[0m\u001b[1m \u001b[0m┃\u001b[1m \u001b[0m\u001b[1mOutput Shape     \u001b[0m\u001b[1m \u001b[0m┃\u001b[1m \u001b[0m\u001b[1m   Param #\u001b[0m\u001b[1m \u001b[0m┃\u001b[1m \u001b[0m\u001b[1mConnected to     \u001b[0m\u001b[1m \u001b[0m┃\n",
              "┡━━━━━━━━━━━━━━━━━━━━━╇━━━━━━━━━━━━━━━━━━━╇━━━━━━━━━━━━╇━━━━━━━━━━━━━━━━━━━┩\n",
              "│ encoder_inputs      │ (\u001b[38;5;45mNone\u001b[0m, \u001b[38;5;45mNone\u001b[0m)      │          \u001b[38;5;34m0\u001b[0m │ -                 │\n",
              "│ (\u001b[38;5;33mInputLayer\u001b[0m)        │                   │            │                   │\n",
              "├─────────────────────┼───────────────────┼────────────┼───────────────────┤\n",
              "│ decoder_inputs      │ (\u001b[38;5;45mNone\u001b[0m, \u001b[38;5;45mNone\u001b[0m)      │          \u001b[38;5;34m0\u001b[0m │ -                 │\n",
              "│ (\u001b[38;5;33mInputLayer\u001b[0m)        │                   │            │                   │\n",
              "├─────────────────────┼───────────────────┼────────────┼───────────────────┤\n",
              "│ embedding           │ (\u001b[38;5;45mNone\u001b[0m, \u001b[38;5;45mNone\u001b[0m, \u001b[38;5;34m128\u001b[0m) │  \u001b[38;5;34m1,339,392\u001b[0m │ encoder_inputs[\u001b[38;5;34m0\u001b[0m… │\n",
              "│ (\u001b[38;5;33mEmbedding\u001b[0m)         │                   │            │                   │\n",
              "├─────────────────────┼───────────────────┼────────────┼───────────────────┤\n",
              "│ not_equal           │ (\u001b[38;5;45mNone\u001b[0m, \u001b[38;5;45mNone\u001b[0m)      │          \u001b[38;5;34m0\u001b[0m │ encoder_inputs[\u001b[38;5;34m0\u001b[0m… │\n",
              "│ (\u001b[38;5;33mNotEqual\u001b[0m)          │                   │            │                   │\n",
              "├─────────────────────┼───────────────────┼────────────┼───────────────────┤\n",
              "│ embedding_1         │ (\u001b[38;5;45mNone\u001b[0m, \u001b[38;5;45mNone\u001b[0m, \u001b[38;5;34m128\u001b[0m) │  \u001b[38;5;34m2,340,352\u001b[0m │ decoder_inputs[\u001b[38;5;34m0\u001b[0m… │\n",
              "│ (\u001b[38;5;33mEmbedding\u001b[0m)         │                   │            │                   │\n",
              "├─────────────────────┼───────────────────┼────────────┼───────────────────┤\n",
              "│ lstm (\u001b[38;5;33mLSTM\u001b[0m)         │ [(\u001b[38;5;45mNone\u001b[0m, \u001b[38;5;45mNone\u001b[0m,     │    \u001b[38;5;34m394,240\u001b[0m │ embedding[\u001b[38;5;34m0\u001b[0m][\u001b[38;5;34m0\u001b[0m],  │\n",
              "│                     │ \u001b[38;5;34m256\u001b[0m), (\u001b[38;5;45mNone\u001b[0m,      │            │ not_equal[\u001b[38;5;34m0\u001b[0m][\u001b[38;5;34m0\u001b[0m]   │\n",
              "│                     │ \u001b[38;5;34m256\u001b[0m), (\u001b[38;5;45mNone\u001b[0m,      │            │                   │\n",
              "│                     │ \u001b[38;5;34m256\u001b[0m)]             │            │                   │\n",
              "├─────────────────────┼───────────────────┼────────────┼───────────────────┤\n",
              "│ lstm_1 (\u001b[38;5;33mLSTM\u001b[0m)       │ [(\u001b[38;5;45mNone\u001b[0m, \u001b[38;5;45mNone\u001b[0m,     │    \u001b[38;5;34m394,240\u001b[0m │ embedding_1[\u001b[38;5;34m0\u001b[0m][\u001b[38;5;34m0\u001b[0m… │\n",
              "│                     │ \u001b[38;5;34m256\u001b[0m), (\u001b[38;5;45mNone\u001b[0m,      │            │ lstm[\u001b[38;5;34m0\u001b[0m][\u001b[38;5;34m1\u001b[0m],       │\n",
              "│                     │ \u001b[38;5;34m256\u001b[0m), (\u001b[38;5;45mNone\u001b[0m,      │            │ lstm[\u001b[38;5;34m0\u001b[0m][\u001b[38;5;34m2\u001b[0m]        │\n",
              "│                     │ \u001b[38;5;34m256\u001b[0m)]             │            │                   │\n",
              "├─────────────────────┼───────────────────┼────────────┼───────────────────┤\n",
              "│ dense (\u001b[38;5;33mDense\u001b[0m)       │ (\u001b[38;5;45mNone\u001b[0m, \u001b[38;5;45mNone\u001b[0m,      │  \u001b[38;5;34m4,698,988\u001b[0m │ lstm_1[\u001b[38;5;34m0\u001b[0m][\u001b[38;5;34m0\u001b[0m]      │\n",
              "│                     │ \u001b[38;5;34m18284\u001b[0m)            │            │                   │\n",
              "└─────────────────────┴───────────────────┴────────────┴───────────────────┘\n"
            ]
          },
          "metadata": {},
          "output_type": "display_data"
        },
        {
          "data": {
            "text/html": [
              "<pre style=\"white-space:pre;overflow-x:auto;line-height:normal;font-family:Menlo,'DejaVu Sans Mono',consolas,'Courier New',monospace\"><span style=\"font-weight: bold\"> Total params: </span><span style=\"color: #00af00; text-decoration-color: #00af00\">27,501,638</span> (104.91 MB)\n",
              "</pre>\n"
            ],
            "text/plain": [
              "\u001b[1m Total params: \u001b[0m\u001b[38;5;34m27,501,638\u001b[0m (104.91 MB)\n"
            ]
          },
          "metadata": {},
          "output_type": "display_data"
        },
        {
          "data": {
            "text/html": [
              "<pre style=\"white-space:pre;overflow-x:auto;line-height:normal;font-family:Menlo,'DejaVu Sans Mono',consolas,'Courier New',monospace\"><span style=\"font-weight: bold\"> Trainable params: </span><span style=\"color: #00af00; text-decoration-color: #00af00\">9,167,212</span> (34.97 MB)\n",
              "</pre>\n"
            ],
            "text/plain": [
              "\u001b[1m Trainable params: \u001b[0m\u001b[38;5;34m9,167,212\u001b[0m (34.97 MB)\n"
            ]
          },
          "metadata": {},
          "output_type": "display_data"
        },
        {
          "data": {
            "text/html": [
              "<pre style=\"white-space:pre;overflow-x:auto;line-height:normal;font-family:Menlo,'DejaVu Sans Mono',consolas,'Courier New',monospace\"><span style=\"font-weight: bold\"> Non-trainable params: </span><span style=\"color: #00af00; text-decoration-color: #00af00\">0</span> (0.00 B)\n",
              "</pre>\n"
            ],
            "text/plain": [
              "\u001b[1m Non-trainable params: \u001b[0m\u001b[38;5;34m0\u001b[0m (0.00 B)\n"
            ]
          },
          "metadata": {},
          "output_type": "display_data"
        },
        {
          "data": {
            "text/html": [
              "<pre style=\"white-space:pre;overflow-x:auto;line-height:normal;font-family:Menlo,'DejaVu Sans Mono',consolas,'Courier New',monospace\"><span style=\"font-weight: bold\"> Optimizer params: </span><span style=\"color: #00af00; text-decoration-color: #00af00\">18,334,426</span> (69.94 MB)\n",
              "</pre>\n"
            ],
            "text/plain": [
              "\u001b[1m Optimizer params: \u001b[0m\u001b[38;5;34m18,334,426\u001b[0m (69.94 MB)\n"
            ]
          },
          "metadata": {},
          "output_type": "display_data"
        }
      ],
      "source": [
        "model.summary()"
      ]
    },
    {
      "cell_type": "code",
      "execution_count": 22,
      "metadata": {
        "colab": {
          "base_uri": "https://localhost:8080/",
          "height": 430
        },
        "id": "-T2rSDOxyXHk",
        "outputId": "74ae701b-7092-41a2-ffdd-903d5bfde8c8"
      },
      "outputs": [
        {
          "data": {
            "image/png": "[encoded data removed]",
            "text/plain": [
              "<Figure size 640x480 with 1 Axes>"
            ]
          },
          "metadata": {},
          "output_type": "display_data"
        }
      ],
      "source": [
        "import matplotlib.pyplot as plt\n",
        "plt.plot(history.history['loss'], label='Train Loss')\n",
        "plt.plot(history.history['val_loss'], label='Val Loss')\n",
        "plt.legend()\n",
        "plt.show()"
      ]
    },
    {
      "cell_type": "code",
      "execution_count": 23,
      "metadata": {
        "colab": {
          "base_uri": "https://localhost:8080/"
        },
        "id": "aFrU5BrG76Uk",
        "outputId": "c37b3bdd-b426-41d1-9d1b-de338e18dd35"
      },
      "outputs": [
        {
          "name": "stdout",
          "output_type": "stream",
          "text": [
            "0: encoder_inputs (InputLayer)\n",
            "1: decoder_inputs (InputLayer)\n",
            "2: embedding (Embedding)\n",
            "3: embedding_1 (Embedding)\n",
            "4: lstm (LSTM)\n",
            "5: lstm_1 (LSTM)\n",
            "6: dense (Dense)\n"
          ]
        }
      ],
      "source": [
        "for i, layer in enumerate(model.layers):\n",
        "    print(f\"{i}: {layer.name} ({layer.__class__.__name__})\")\n"
      ]
    },
    {
      "cell_type": "code",
      "execution_count": 24,
      "metadata": {
        "id": "-2gjM1BJkQOG"
      },
      "outputs": [],
      "source": [
        "# Inference models\n",
        "encoder_model = Model(encoder_inputs, [encoder_outputs, state_h, state_c])\n",
        "\n",
        "# Decoder inference model inputs\n",
        "decoder_inputs_single = Input(shape=(1,), name='decoder_input_token')\n",
        "decoder_state_input_h = Input(shape=(latent_dim,), name='decoder_h')\n",
        "decoder_state_input_c = Input(shape=(latent_dim,), name='decoder_c')\n",
        "encoder_outputs_input = Input(shape=(None, latent_dim), name='encoder_outputs_input')\n",
        "\n",
        "\n",
        "# reusing trained embedding weights\n",
        "decoder_embedding_inf = model.get_layer(index=3)\n",
        "decoder_embedding_single = decoder_embedding_inf(decoder_inputs_single)\n",
        "\n",
        "# LSTM step for inference\n",
        "# decoder_lstm_inf = LSTM(latent_dim, return_sequences=True, return_state=True)\n",
        "decoder_lstm_inf = model.get_layer(index=5)\n",
        "decoder_outputs_inf, state_h_inf, state_c_inf = decoder_lstm_inf(\n",
        "    decoder_embedding_single, initial_state=[decoder_state_input_h, decoder_state_input_c]\n",
        ")\n",
        "\n",
        "# decoder_dense_inf = Dense(num_decoder_tokens, activation='softmax')\n",
        "decoder_dense_inf = model.get_layer(index=6)\n",
        "decoder_outputs_final_inf = decoder_dense_inf(decoder_outputs_inf)\n",
        "\n",
        "\n",
        "\n",
        "# Inference decoder model\n",
        "decoder_model = Model(\n",
        "    inputs=[decoder_inputs_single, decoder_state_input_h, decoder_state_input_c],\n",
        "    outputs=[decoder_outputs_final_inf, state_h_inf, state_c_inf]\n",
        ")\n",
        "\n"
      ]
    },
    {
      "cell_type": "code",
      "execution_count": 25,
      "metadata": {
        "id": "JvuWHyrDmHHK"
      },
      "outputs": [],
      "source": [
        "def translate(input_text):\n",
        "    # Preprocess input\n",
        "    input_seq = source_tokenizer.texts_to_sequences([input_text.lower().strip()])\n",
        "    input_seq = tf.convert_to_tensor(input_seq)\n",
        "\n",
        "    # Geting encoder states\n",
        "    _, state_h, state_c = encoder_model.predict(input_seq, verbose=0)\n",
        "\n",
        "    # Initialize decoder inputs with <sos>\n",
        "    target_seq = np.array([[target_tokenizer.word_index.get('<sos>', 1)]])\n",
        "    decoded_sentence = ''\n",
        "    stop_condition = False\n",
        "\n",
        "    while not stop_condition:\n",
        "        # Decoder prediction\n",
        "        output_tokens, h, c = decoder_model.predict([target_seq, state_h, state_c], verbose=0)\n",
        "\n",
        "        # Get token with highest probability\n",
        "        sampled_token_index = np.argmax(output_tokens[0, -1, :])\n",
        "        sampled_word = target_tokenizer.index_word.get(sampled_token_index, '')\n",
        "\n",
        "        # Stop if <eos> if generated or outputs are getting too long\n",
        "        if sampled_word == '<eos>' or len(decoded_sentence.split()) > 50:\n",
        "            stop_condition = True\n",
        "        else:\n",
        "            if sampled_word and sampled_word != '<sos>':\n",
        "                decoded_sentence += ' ' + sampled_word\n",
        "\n",
        "        # Updating target token and states\n",
        "        target_seq = np.array([[sampled_token_index]])\n",
        "        state_h, state_c = h, c\n",
        "\n",
        "    return decoded_sentence.strip()\n"
      ]
    },
    {
      "cell_type": "code",
      "execution_count": 26,
      "metadata": {
        "colab": {
          "base_uri": "https://localhost:8080/"
        },
        "id": "iW94ScjHmJi2",
        "outputId": "40ac5743-a335-46d5-a5fd-b611a6a85858"
      },
      "outputs": [
        {
          "name": "stdout",
          "output_type": "stream",
          "text": [
            "hello -> de vuelta\n",
            "how are you -> cómo estás\n",
            "i am fine -> soy mayor\n",
            "good night -> la noche ha estado\n",
            "what is your name -> cuál es tu nombre\n"
          ]
        }
      ],
      "source": [
        "# Test examples\n",
        "examples = ['hello', 'how are you', 'i am fine', 'good night', 'what is your name']\n",
        "for ex in examples:\n",
        "    try:\n",
        "        translation = translate(ex)\n",
        "        print(f\"{ex} -> {translation}\")\n",
        "    except Exception as e:\n",
        "        print(f\"Error translating '{ex}': {e}\")"
      ]
    },
    {
      "cell_type": "code",
      "execution_count": 27,
      "metadata": {
        "id": "3Ruful-f4CUe"
      },
      "outputs": [],
      "source": [
        "import sacrebleu\n",
        "\n",
        "# Decode integer sequences back to English text\n",
        "inv_source_word_index = {v: k for k, v in source_tokenizer.word_index.items()}\n",
        "inv_target_word_index = {v: k for k, v in target_tokenizer.word_index.items()}\n",
        "\n",
        "def decode_sequence(seq, inv_map):\n",
        "    return ' '.join([inv_map.get(idx, '') for idx in seq if idx != 0])\n",
        "\n",
        "# Taking only first 100 samples from validation set\n",
        "sample_val_inputs = val_inputs[:100]\n",
        "sample_val_targets = val_targets[:100]\n",
        "\n",
        "# Convert validation input sequences to raw English\n",
        "raw_val_inputs = [decode_sequence(seq, inv_source_word_index) for seq in sample_val_inputs]\n",
        "\n",
        "# Convert target output sequences to raw Spanish\n",
        "raw_val_refs = [decode_sequence(seq, inv_target_word_index).replace('<sos>', '').replace('<eos>', '').strip() for seq in sample_val_targets]\n",
        "\n",
        "# Generate model predictions\n",
        "predictions = []\n",
        "for sentence in raw_val_inputs:\n",
        "    try:\n",
        "        pred = translate(sentence)\n",
        "        predictions.append(pred)\n",
        "    except:\n",
        "        predictions.append(\"\")\n",
        "\n",
        "\n",
        "references = [[ref] for ref in raw_val_refs]  # List of lists\n"
      ]
    },
    {
      "cell_type": "code",
      "execution_count": 28,
      "metadata": {
        "colab": {
          "base_uri": "https://localhost:8080/"
        },
        "id": "I05IcuMq4En6",
        "outputId": "78e5a01d-b095-4dd7-9bf4-34d874a11714"
      },
      "outputs": [
        {
          "name": "stdout",
          "output_type": "stream",
          "text": [
            "BLEU score: 26.86\n"
          ]
        }
      ],
      "source": [
        "bleu = sacrebleu.corpus_bleu(predictions, references)\n",
        "print(f\"BLEU score: {bleu.score:.2f}\")"
      ]
    },
    {
      "cell_type": "code",
      "execution_count": 29,
      "metadata": {
        "colab": {
          "base_uri": "https://localhost:8080/"
        },
        "id": "EMSxOW9tBHRb",
        "outputId": "83877f6d-8440-48ae-aedc-ef681ab25eb5"
      },
      "outputs": [
        {
          "name": "stdout",
          "output_type": "stream",
          "text": [
            "1. [school keeps me pretty busy:la escuela me mantiene bastante ocupado] --> la escuela está muy ocupado\n",
            "2. [i called you in here to ask you a question:te llamé acá para hacerte una pregunta] --> te di el libro que te haga algo de vos\n",
            "3. [he went home while it was still light:él volvió a casa habiendo luz todavía] --> llegó a casa que estaba ahí\n",
            "4. [i earn my living as best i can:me gano la vida como puedo] --> yo le entregué el abrigo pero no me ha acabado\n",
            "5. [do you have a ticket:tienes un boleto] --> tienes un pasaje\n",
            "6. [the plane didn't stop at new york:el avión no hizo escala en new york] --> el avión no se detuvo a nueva york\n",
            "7. [well i have to go now:ahora tengo que irme] --> ahora ahora tengo que ir\n",
            "8. [he boasts that he can speak six languages:él se de que puede hablar seis idiomas] --> él presume de que todos los niños\n",
            "9. [it's almost half past eleven:casi son las once y media] --> hoy hay treinta minutos\n",
            "10. [i don't know anybody here:aquí no conozco a nadie] --> no sé qué aquí\n",
            "11. [she told him that she loved him:ella le dijo que lo amaba] --> ella le dijo que lo amaba\n",
            "12. [the river runs through the valley:el río atraviesa el valle] --> el río está navegando por el campo\n",
            "13. [it is better to live rich than to die rich:es mejor vivir rico que morir rico] --> es mejor que él no comen tanto frío\n",
            "14. [he gave a detailed description of the accident:él dio una descripción detallada del accidente] --> él le dio un vaso de interés a la armada\n",
            "15. [this song reminds me of someone:esta canción me trae recuerdos de alguien] --> esta canción me recuerda a mi infancia\n",
            "16. [i think that you're wrong:creo que te equivocas] --> creo que estás equivocado\n",
            "17. [tom should've danced with mary:tom debería haber bailado con mary] --> tom debería haber pagado a mary\n",
            "18. [won't you come with me:no vienes conmigo] --> no me vas a salir\n",
            "19. [he hurt his knee when he fell:al caer se hizo daño en la rodilla] --> él se lastimó su solicitud cuando se puso\n",
            "20. [i could not keep the tears from my eyes:no pude contener las lágrimas] --> no me acuerdo de las lágrimas de las personas de mi pie\n"
          ]
        }
      ],
      "source": [
        "for i in range(20):\n",
        "  print(f'{i+1}. [{raw_val_inputs[i]}:{raw_val_refs[i]}] --> {predictions[i]}')"
      ]
    },
    {
      "cell_type": "code",
      "execution_count": 29,
      "metadata": {
        "id": "kkTE-VNilV7z"
      },
      "outputs": [],
      "source": []
    }
  ],
  "metadata": {
    "accelerator": "GPU",
    "colab": {
      "gpuType": "T4",
      "provenance": []
    },
    "kernelspec": {
      "display_name": "Python 3",
      "name": "python3"
    },
    "language_info": {
      "name": "python"
    }
  },
  "nbformat": 4,
  "nbformat_minor": 0
}
